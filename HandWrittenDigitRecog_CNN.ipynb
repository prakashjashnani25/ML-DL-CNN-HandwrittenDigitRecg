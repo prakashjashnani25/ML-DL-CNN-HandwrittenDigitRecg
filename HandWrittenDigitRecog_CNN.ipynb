{
  "nbformat": 4,
  "nbformat_minor": 0,
  "metadata": {
    "colab": {
      "name": "HandWrittenDigitRecog_CNN.ipynb",
      "provenance": [],
      "toc_visible": true,
      "authorship_tag": "ABX9TyMGwJ3VzsKAB0HyZU5CYOXL",
      "include_colab_link": true
    },
    "kernelspec": {
      "name": "python3",
      "display_name": "Python 3"
    },
    "language_info": {
      "name": "python"
    }
  },
  "cells": [
    {
      "cell_type": "markdown",
      "metadata": {
        "id": "view-in-github",
        "colab_type": "text"
      },
      "source": [
        "<a href=\"https://colab.research.google.com/github/prakashjashnani25/ML-DL-CNN-HandwrittenDigitRecg/blob/main/HandWrittenDigitRecog_CNN.ipynb\" target=\"_parent\"><img src=\"https://colab.research.google.com/assets/colab-badge.svg\" alt=\"Open In Colab\"/></a>"
      ]
    },
    {
      "cell_type": "markdown",
      "metadata": {
        "id": "S_99UfyyYvz1"
      },
      "source": [
        "Handwritten Digit Recognition ( CNN - Using Keras )"
      ]
    },
    {
      "cell_type": "code",
      "metadata": {
        "colab": {
          "base_uri": "https://localhost:8080/"
        },
        "id": "nsLctnZ5ZBIq",
        "outputId": "cc69940c-91ab-4860-b114-889ff1015754"
      },
      "source": [
        "import tensorflow as tf\n",
        "from tensorflow import keras as k\n",
        "# Data set MNIST\n",
        "from keras.datasets import mnist\n",
        "# Graph\n",
        "import matplotlib.pyplot as plt\n",
        "print('version', tf.__version__)"
      ],
      "execution_count": 6,
      "outputs": [
        {
          "output_type": "stream",
          "name": "stdout",
          "text": [
            "version 2.7.0\n"
          ]
        }
      ]
    },
    {
      "cell_type": "code",
      "metadata": {
        "id": "io948BUmawqm"
      },
      "source": [
        "# Loading the MNIST data \n",
        "(X_train, y_train),(X_test,y_test)   = mnist.load_data()"
      ],
      "execution_count": 33,
      "outputs": []
    },
    {
      "cell_type": "code",
      "metadata": {
        "id": "KeRxWrKqZKKg"
      },
      "source": [
        "#Visualizing the Data being loaded (first N )\n",
        "def display(n1:int = 5)->None:\n",
        "  for n in range(0,n1):\n",
        "    print(\"Label->\",y_train[n])\n",
        "    plt.subplot(221+n)\n",
        "    plt.imshow(X_train[n])\n",
        "\n"
      ],
      "execution_count": 18,
      "outputs": []
    },
    {
      "cell_type": "code",
      "metadata": {
        "colab": {
          "base_uri": "https://localhost:8080/",
          "height": 184
        },
        "id": "WPhVON3PaByQ",
        "outputId": "b7bdf508-43c7-4a0e-d4a2-9f2a126132be"
      },
      "source": [
        "display(2)"
      ],
      "execution_count": 19,
      "outputs": [
        {
          "output_type": "stream",
          "name": "stdout",
          "text": [
            "Label-> 5\n",
            "Label-> 0\n"
          ]
        },
        {
          "output_type": "display_data",
          "data": {
            "image/png": "[encoded data removed]",
            "text/plain": [
              "<Figure size 432x288 with 2 Axes>"
            ]
          },
          "metadata": {
            "needs_background": "light"
          }
        }
      ]
    },
    {
      "cell_type": "code",
      "metadata": {
        "colab": {
          "base_uri": "https://localhost:8080/"
        },
        "id": "3XBWHZaPbWGu",
        "outputId": "2ed7637c-d196-4583-9406-edd901b1a714"
      },
      "source": [
        "pixels = X_train.shape[1] * X_train.shape[2]\n",
        "X_train.shape, type(X_train), X_train.shape[1] * X_train.shape[2]"
      ],
      "execution_count": 29,
      "outputs": [
        {
          "output_type": "execute_result",
          "data": {
            "text/plain": [
              "((60000, 28, 28), numpy.ndarray, 784)"
            ]
          },
          "metadata": {},
          "execution_count": 29
        }
      ]
    },
    {
      "cell_type": "code",
      "metadata": {
        "id": "D1hDHX7ceYNx"
      },
      "source": [
        "X_train_c=X_train.copy()\n",
        "X_test_c=X_test.copy()\n",
        "y_train_c=y_train.copy()\n",
        "y_test_c=y_test.copy()\n",
        "#Reshape From 60k , 28, 28 To 60000 , 786\n",
        "X_train_c= X_train_c.reshape((X_train.shape[0],pixels))\n",
        "X_test_c=X_test_c.reshape((X_test.shape[0],pixels))\n",
        "#Normalize Pixel Value from 0 to 255 to 0 to 1\n",
        "X_train_c=X_train_c/255\n",
        "x_test_c=X_test_c/255\n",
        "\n",
        "#One Hot Encode Output label\n",
        "y_train_c=tf.keras.utils.to_categorical(y_train_c)\n",
        "y_test_c=tf.keras.utils.to_categorical(y_test_c)"
      ],
      "execution_count": 53,
      "outputs": []
    },
    {
      "cell_type": "code",
      "metadata": {
        "id": "Vx3esm9qcG9c"
      },
      "source": [
        "# Define a FNN ( Forward Neural Network - Of Three Layers ) \n",
        "def base_model()->tf.keras.Sequential:\n",
        "  model = tf.keras.Sequential([\n",
        "      tf.keras.layers.Dense(pixels,activation='relu',input_dim=pixels),\n",
        "      tf.keras.layers.Dense(100,activation='relu'),\n",
        "      tf.keras.layers.Dense(10, activation='softmax')\n",
        "  ])\n",
        "  model.compile(optimizer= tf.keras.optimizers.Adam(lr=0.001), loss=tf.keras.losses.categorical_crossentropy,metrics=[\"accuracy\"])\n",
        "  return model"
      ],
      "execution_count": 61,
      "outputs": []
    },
    {
      "cell_type": "code",
      "metadata": {
        "colab": {
          "base_uri": "https://localhost:8080/"
        },
        "id": "77zMbJy7ffUL",
        "outputId": "baee38f8-00ab-4fc5-d90e-e33c5cc00dfc"
      },
      "source": [
        "#Solving the Problem Using NN ( normal Neural Network)\n",
        "model = base_model()\n",
        "model.fit(X_train_c,y_train_c,validation_data=(X_test_c,y_test_c), epochs=10,batch_size=200, verbose = 0)"
      ],
      "execution_count": 62,
      "outputs": [
        {
          "output_type": "stream",
          "name": "stderr",
          "text": [
            "/usr/local/lib/python3.7/dist-packages/keras/optimizer_v2/adam.py:105: UserWarning: The `lr` argument is deprecated, use `learning_rate` instead.\n",
            "  super(Adam, self).__init__(name, **kwargs)\n"
          ]
        },
        {
          "output_type": "execute_result",
          "data": {
            "text/plain": [
              "<keras.callbacks.History at 0x7f0d5a63fc10>"
            ]
          },
          "metadata": {},
          "execution_count": 62
        }
      ]
    },
    {
      "cell_type": "code",
      "metadata": {
        "colab": {
          "base_uri": "https://localhost:8080/"
        },
        "id": "y9Doa8qphJ2y",
        "outputId": "2764fecf-a533-4f4b-8df2-18e3b5726217"
      },
      "source": [
        "#Evaluating a Model \n",
        "scores_bm=model.evaluate(X_test_c,y_test_c,verbose=0)\n",
        "print(\"Baseline Error \", (100 - scores_bm[1]*100), \" %\")"
      ],
      "execution_count": 60,
      "outputs": [
        {
          "output_type": "stream",
          "name": "stdout",
          "text": [
            "Baseline Error  2.3500025272369385  %\n"
          ]
        }
      ]
    },
    {
      "cell_type": "markdown",
      "metadata": {
        "id": "q9QcDm0IknfD"
      },
      "source": [
        "Baseline Error Using FNN is -> 2.35 %\n",
        "Lets try to reduce the same using CNN\n",
        "Simple CNN For MNIST"
      ]
    },
    {
      "cell_type": "code",
      "metadata": {
        "id": "pQlHfJt9kDBd"
      },
      "source": [
        "#Clonning the data set\n",
        "X_train_c1= X_train.copy()\n",
        "X_test_c1= X_test.copy()\n",
        "\n",
        "y_train_c1=y_train.copy()\n",
        "y_test_c1=y_test.copy()\n",
        "\n",
        "# Reshaping based on Convolution\n",
        "X_train_c1=X_train_c1.reshape((X_train_c1.shape[0],28,28,1))# As it is gray scale image #channel is 1 for color #channels should be 3\n",
        "X_test_c1=X_test_c1.reshape((X_test_c1.shape[0],28,28,1))\n",
        "\n",
        "# Norma,ize the ranges \n",
        "X_train_c1=X_train_c1/255.0\n",
        "X_test_c1= X_test_c1/255.0\n",
        "# One hot encode for label\n",
        "y_test_c1=tf.keras.utils.to_categorical(y_test_c1)\n",
        "y_train_c1=tf.keras.utils.to_categorical(y_train_c1)\n"
      ],
      "execution_count": 66,
      "outputs": []
    },
    {
      "cell_type": "code",
      "metadata": {
        "id": "18mYjcg12cke"
      },
      "source": [
        "def base_cnn()->tf.keras.Sequential:\n",
        "  model = tf.keras.Sequential([\n",
        "      tf.keras.layers.Conv2D(32,(5,5),input_shape=(28,28,1),activation='relu'),\n",
        "      tf.keras.layers.MaxPool2D(2,2),\n",
        "      tf.keras.layers.Dropout(0.2),\n",
        "      tf.keras.layers.Flatten(),\n",
        "      tf.keras.layers.Dense(500,activation='relu'),\n",
        "      tf.keras.layers.Dense(10, activation='softmax')\n",
        "  ])\n",
        "\n",
        "  model.compile(optimizer=tf.keras.optimizers.Adam(lr=0.01),loss=tf.keras.losses.CategoricalCrossentropy(),metrics=[tf.keras.metrics.Accuracy()])\n",
        "  return model"
      ],
      "execution_count": 69,
      "outputs": []
    },
    {
      "cell_type": "code",
      "metadata": {
        "colab": {
          "base_uri": "https://localhost:8080/"
        },
        "id": "xtJMTnfR5pDo",
        "outputId": "500e9174-ef22-4af1-d0c8-6bd7cb70db03"
      },
      "source": [
        "cnn_model=base_cnn()\n",
        "predictions=cnn_model.fit(X_train_c1,y_train_c1,validation_data=(X_test_c1,y_test_c1),epochs=10,batch_size=500,verbose=1)"
      ],
      "execution_count": null,
      "outputs": [
        {
          "output_type": "stream",
          "name": "stderr",
          "text": [
            "/usr/local/lib/python3.7/dist-packages/keras/optimizer_v2/adam.py:105: UserWarning: The `lr` argument is deprecated, use `learning_rate` instead.\n",
            "  super(Adam, self).__init__(name, **kwargs)\n"
          ]
        },
        {
          "output_type": "stream",
          "name": "stdout",
          "text": [
            "Epoch 1/10\n",
            "120/120 [==============================] - 39s 322ms/step - loss: 0.2594 - accuracy: 4.0667e-04 - val_loss: 0.0524 - val_accuracy: 6.1000e-04\n",
            "Epoch 2/10\n",
            "120/120 [==============================] - 38s 320ms/step - loss: 0.0538 - accuracy: 0.0022 - val_loss: 0.0394 - val_accuracy: 0.0020\n",
            "Epoch 3/10\n",
            "120/120 [==============================] - 38s 320ms/step - loss: 0.0323 - accuracy: 0.0087 - val_loss: 0.0392 - val_accuracy: 0.0098\n",
            "Epoch 4/10\n",
            " 76/120 [==================>...........] - ETA: 13s - loss: 0.0250 - accuracy: 0.0144"
          ]
        }
      ]
    },
    {
      "cell_type": "code",
      "metadata": {
        "id": "bOrGMxpQ5s4F"
      },
      "source": [
        ""
      ],
      "execution_count": null,
      "outputs": []
    }
  ]
}